{
 "cells": [
  {
   "cell_type": "markdown",
   "metadata": {},
   "source": [
    "\n",
    "# Deep Learning for Image Classification Assessment\n",
    "# SOLUTION\n",
    "\n",
    "\n",
    "## The Challenge\n",
    "\n",
    "**Your task is to build an image classifier with Keras and Convolutional Neural Networks for the Fashion MNIST dataset. This data set includes 10 labels of different clothing types with 28 by 28 *grayscale* images. There is a training set of 60,000 images and 10,000 test images.**\n",
    "\n",
    "    Label\tDescription\n",
    "    0\t    T-shirt/top\n",
    "    1\t    Trouser\n",
    "    2\t    Pullover\n",
    "    3\t    Dress\n",
    "    4\t    Coat\n",
    "    5\t    Sandal\n",
    "    6\t    Shirt\n",
    "    7\t    Sneaker\n",
    "    8\t    Bag\n",
    "    9\t    Ankle boot\n",
    "    \n",
    " "
   ]
  },
  {
   "cell_type": "markdown",
   "metadata": {},
   "source": []
  },
  {
   "cell_type": "markdown",
   "metadata": {},
   "source": []
  },
  {
   "cell_type": "code",
   "execution_count": 73,
   "metadata": {
    "ExecuteTime": {
     "end_time": "2022-09-27T22:37:08.773759Z",
     "start_time": "2022-09-27T22:37:08.752845Z"
    }
   },
   "outputs": [
    {
     "data": {
      "text/plain": [
       "'3.9.7 (default, Sep 16 2021, 16:59:28) [MSC v.1916 64 bit (AMD64)]'"
      ]
     },
     "execution_count": 73,
     "metadata": {},
     "output_type": "execute_result"
    }
   ],
   "source": [
    "import sys \n",
    "sys.version"
   ]
  },
  {
   "cell_type": "code",
   "execution_count": 74,
   "metadata": {
    "ExecuteTime": {
     "end_time": "2022-09-27T22:37:08.805660Z",
     "start_time": "2022-09-27T22:37:08.784718Z"
    }
   },
   "outputs": [],
   "source": [
    "classes=[\"T-shirt/top\", \"Trouser\",\"Pullover\",\"Dress\",\"Coat\",\"Sandal\",\"Shirt\",\"Sneaker\",\"Bag\",\"Ankle boot\"]"
   ]
  },
  {
   "cell_type": "markdown",
   "metadata": {},
   "source": [
    "## The Data"
   ]
  },
  {
   "cell_type": "code",
   "execution_count": 75,
   "metadata": {
    "ExecuteTime": {
     "end_time": "2022-09-27T22:37:09.290545Z",
     "start_time": "2022-09-27T22:37:08.817662Z"
    }
   },
   "outputs": [],
   "source": [
    "# Importing the Keras libraries and downloading the fashion MNIST dataset\n",
    "from tensorflow.keras.datasets import fashion_mnist \n",
    "\n",
    "(x_train, y_train), (x_test, y_test) = fashion_mnist.load_data() # loading the data from the MNIST dataset"
   ]
  },
  {
   "cell_type": "markdown",
   "metadata": {},
   "source": [
    "## Visualizing the Data"
   ]
  },
  {
   "cell_type": "code",
   "execution_count": 76,
   "metadata": {
    "ExecuteTime": {
     "end_time": "2022-09-27T22:37:09.306044Z",
     "start_time": "2022-09-27T22:37:09.292101Z"
    }
   },
   "outputs": [],
   "source": [
    "import matplotlib.pyplot as plt\n",
    "import numpy as np\n",
    "import pandas as pd\n",
    "%matplotlib inline "
   ]
  },
  {
   "cell_type": "code",
   "execution_count": 77,
   "metadata": {
    "ExecuteTime": {
     "end_time": "2022-09-27T22:37:09.321942Z",
     "start_time": "2022-09-27T22:37:09.307042Z"
    },
    "scrolled": true
   },
   "outputs": [
    {
     "data": {
      "text/plain": [
       "array([[  0,   0,   0,   0,   0,   0,   0,   0,   0,   0,   0,   0,   0,\n",
       "          0,   0,   0,   0,   0,   0,   0,   0,   0,   0,   0,   0,   0,\n",
       "          0,   0],\n",
       "       [  0,   0,   0,   0,   0,   0,   0,   0,   0,   0,   0,   0,   0,\n",
       "          0,   0,   0,   0,   0,   0,   0,   0,   0,   0,   0,   0,   0,\n",
       "          0,   0],\n",
       "       [  0,   0,   0,   0,   0,   0,   0,   0,   0,   0,   0,   0,   0,\n",
       "          0,   0,   0,   0,   0,   0,   0,   0,   0,   0,   0,   0,   0,\n",
       "          0,   0],\n",
       "       [  0,   0,   0,   0,   0,   0,   0,   0,   0,   0,   0,   0,   1,\n",
       "          0,   0,  13,  73,   0,   0,   1,   4,   0,   0,   0,   0,   1,\n",
       "          1,   0],\n",
       "       [  0,   0,   0,   0,   0,   0,   0,   0,   0,   0,   0,   0,   3,\n",
       "          0,  36, 136, 127,  62,  54,   0,   0,   0,   1,   3,   4,   0,\n",
       "          0,   3],\n",
       "       [  0,   0,   0,   0,   0,   0,   0,   0,   0,   0,   0,   0,   6,\n",
       "          0, 102, 204, 176, 134, 144, 123,  23,   0,   0,   0,   0,  12,\n",
       "         10,   0],\n",
       "       [  0,   0,   0,   0,   0,   0,   0,   0,   0,   0,   0,   0,   0,\n",
       "          0, 155, 236, 207, 178, 107, 156, 161, 109,  64,  23,  77, 130,\n",
       "         72,  15],\n",
       "       [  0,   0,   0,   0,   0,   0,   0,   0,   0,   0,   0,   1,   0,\n",
       "         69, 207, 223, 218, 216, 216, 163, 127, 121, 122, 146, 141,  88,\n",
       "        172,  66],\n",
       "       [  0,   0,   0,   0,   0,   0,   0,   0,   0,   1,   1,   1,   0,\n",
       "        200, 232, 232, 233, 229, 223, 223, 215, 213, 164, 127, 123, 196,\n",
       "        229,   0],\n",
       "       [  0,   0,   0,   0,   0,   0,   0,   0,   0,   0,   0,   0,   0,\n",
       "        183, 225, 216, 223, 228, 235, 227, 224, 222, 224, 221, 223, 245,\n",
       "        173,   0],\n",
       "       [  0,   0,   0,   0,   0,   0,   0,   0,   0,   0,   0,   0,   0,\n",
       "        193, 228, 218, 213, 198, 180, 212, 210, 211, 213, 223, 220, 243,\n",
       "        202,   0],\n",
       "       [  0,   0,   0,   0,   0,   0,   0,   0,   0,   1,   3,   0,  12,\n",
       "        219, 220, 212, 218, 192, 169, 227, 208, 218, 224, 212, 226, 197,\n",
       "        209,  52],\n",
       "       [  0,   0,   0,   0,   0,   0,   0,   0,   0,   0,   6,   0,  99,\n",
       "        244, 222, 220, 218, 203, 198, 221, 215, 213, 222, 220, 245, 119,\n",
       "        167,  56],\n",
       "       [  0,   0,   0,   0,   0,   0,   0,   0,   0,   4,   0,   0,  55,\n",
       "        236, 228, 230, 228, 240, 232, 213, 218, 223, 234, 217, 217, 209,\n",
       "         92,   0],\n",
       "       [  0,   0,   1,   4,   6,   7,   2,   0,   0,   0,   0,   0, 237,\n",
       "        226, 217, 223, 222, 219, 222, 221, 216, 223, 229, 215, 218, 255,\n",
       "         77,   0],\n",
       "       [  0,   3,   0,   0,   0,   0,   0,   0,   0,  62, 145, 204, 228,\n",
       "        207, 213, 221, 218, 208, 211, 218, 224, 223, 219, 215, 224, 244,\n",
       "        159,   0],\n",
       "       [  0,   0,   0,   0,  18,  44,  82, 107, 189, 228, 220, 222, 217,\n",
       "        226, 200, 205, 211, 230, 224, 234, 176, 188, 250, 248, 233, 238,\n",
       "        215,   0],\n",
       "       [  0,  57, 187, 208, 224, 221, 224, 208, 204, 214, 208, 209, 200,\n",
       "        159, 245, 193, 206, 223, 255, 255, 221, 234, 221, 211, 220, 232,\n",
       "        246,   0],\n",
       "       [  3, 202, 228, 224, 221, 211, 211, 214, 205, 205, 205, 220, 240,\n",
       "         80, 150, 255, 229, 221, 188, 154, 191, 210, 204, 209, 222, 228,\n",
       "        225,   0],\n",
       "       [ 98, 233, 198, 210, 222, 229, 229, 234, 249, 220, 194, 215, 217,\n",
       "        241,  65,  73, 106, 117, 168, 219, 221, 215, 217, 223, 223, 224,\n",
       "        229,  29],\n",
       "       [ 75, 204, 212, 204, 193, 205, 211, 225, 216, 185, 197, 206, 198,\n",
       "        213, 240, 195, 227, 245, 239, 223, 218, 212, 209, 222, 220, 221,\n",
       "        230,  67],\n",
       "       [ 48, 203, 183, 194, 213, 197, 185, 190, 194, 192, 202, 214, 219,\n",
       "        221, 220, 236, 225, 216, 199, 206, 186, 181, 177, 172, 181, 205,\n",
       "        206, 115],\n",
       "       [  0, 122, 219, 193, 179, 171, 183, 196, 204, 210, 213, 207, 211,\n",
       "        210, 200, 196, 194, 191, 195, 191, 198, 192, 176, 156, 167, 177,\n",
       "        210,  92],\n",
       "       [  0,   0,  74, 189, 212, 191, 175, 172, 175, 181, 185, 188, 189,\n",
       "        188, 193, 198, 204, 209, 210, 210, 211, 188, 188, 194, 192, 216,\n",
       "        170,   0],\n",
       "       [  2,   0,   0,   0,  66, 200, 222, 237, 239, 242, 246, 243, 244,\n",
       "        221, 220, 193, 191, 179, 182, 182, 181, 176, 166, 168,  99,  58,\n",
       "          0,   0],\n",
       "       [  0,   0,   0,   0,   0,   0,   0,  40,  61,  44,  72,  41,  35,\n",
       "          0,   0,   0,   0,   0,   0,   0,   0,   0,   0,   0,   0,   0,\n",
       "          0,   0],\n",
       "       [  0,   0,   0,   0,   0,   0,   0,   0,   0,   0,   0,   0,   0,\n",
       "          0,   0,   0,   0,   0,   0,   0,   0,   0,   0,   0,   0,   0,\n",
       "          0,   0],\n",
       "       [  0,   0,   0,   0,   0,   0,   0,   0,   0,   0,   0,   0,   0,\n",
       "          0,   0,   0,   0,   0,   0,   0,   0,   0,   0,   0,   0,   0,\n",
       "          0,   0]], dtype=uint8)"
      ]
     },
     "execution_count": 77,
     "metadata": {},
     "output_type": "execute_result"
    }
   ],
   "source": [
    "x_train[0] # First image in the training set"
   ]
  },
  {
   "cell_type": "code",
   "execution_count": 78,
   "metadata": {
    "ExecuteTime": {
     "end_time": "2022-09-27T22:37:09.337961Z",
     "start_time": "2022-09-27T22:37:09.322973Z"
    }
   },
   "outputs": [
    {
     "data": {
      "text/plain": [
       "(28, 28)"
      ]
     },
     "execution_count": 78,
     "metadata": {},
     "output_type": "execute_result"
    }
   ],
   "source": [
    "x_train[0].shape "
   ]
  },
  {
   "cell_type": "code",
   "execution_count": 79,
   "metadata": {
    "ExecuteTime": {
     "end_time": "2022-09-27T22:37:09.430500Z",
     "start_time": "2022-09-27T22:37:09.338928Z"
    }
   },
   "outputs": [
    {
     "data": {
      "text/plain": [
       "<matplotlib.image.AxesImage at 0x1e311499280>"
      ]
     },
     "execution_count": 79,
     "metadata": {},
     "output_type": "execute_result"
    },
    {
     "data": {
      "image/png": "[encoded data removed]",
      "text/plain": [
       "<Figure size 432x288 with 1 Axes>"
      ]
     },
     "metadata": {
      "needs_background": "light"
     },
     "output_type": "display_data"
    }
   ],
   "source": [
    "plt.imshow(x_train[1]) "
   ]
  },
  {
   "cell_type": "code",
   "execution_count": 80,
   "metadata": {
    "ExecuteTime": {
     "end_time": "2022-09-27T22:37:09.445949Z",
     "start_time": "2022-09-27T22:37:09.432069Z"
    }
   },
   "outputs": [
    {
     "data": {
      "text/plain": [
       "0"
      ]
     },
     "execution_count": 80,
     "metadata": {},
     "output_type": "execute_result"
    }
   ],
   "source": [
    "y_train[1]"
   ]
  },
  {
   "cell_type": "code",
   "execution_count": 81,
   "metadata": {
    "ExecuteTime": {
     "end_time": "2022-09-27T22:37:09.461922Z",
     "start_time": "2022-09-27T22:37:09.449939Z"
    }
   },
   "outputs": [
    {
     "data": {
      "text/plain": [
       "'T-shirt/top'"
      ]
     },
     "execution_count": 81,
     "metadata": {},
     "output_type": "execute_result"
    }
   ],
   "source": [
    "classes[0]"
   ]
  },
  {
   "cell_type": "markdown",
   "metadata": {},
   "source": [
    "## Preprocessing the Data"
   ]
  },
  {
   "cell_type": "code",
   "execution_count": 82,
   "metadata": {
    "ExecuteTime": {
     "end_time": "2022-09-27T22:37:09.508340Z",
     "start_time": "2022-09-27T22:37:09.463917Z"
    }
   },
   "outputs": [
    {
     "data": {
      "text/plain": [
       "255"
      ]
     },
     "execution_count": 82,
     "metadata": {},
     "output_type": "execute_result"
    }
   ],
   "source": [
    "x_train.max()"
   ]
  },
  {
   "cell_type": "code",
   "execution_count": 83,
   "metadata": {
    "ExecuteTime": {
     "end_time": "2022-09-27T22:37:09.632203Z",
     "start_time": "2022-09-27T22:37:09.509232Z"
    }
   },
   "outputs": [],
   "source": [
    "x_train = x_train/255"
   ]
  },
  {
   "cell_type": "code",
   "execution_count": 84,
   "metadata": {
    "ExecuteTime": {
     "end_time": "2022-09-27T22:37:09.663998Z",
     "start_time": "2022-09-27T22:37:09.633270Z"
    }
   },
   "outputs": [],
   "source": [
    "x_test = x_test/255"
   ]
  },
  {
   "cell_type": "markdown",
   "metadata": {},
   "source": [
    "Task 4: "
   ]
  },
  {
   "cell_type": "code",
   "execution_count": 85,
   "metadata": {
    "ExecuteTime": {
     "end_time": "2022-09-27T22:37:09.679861Z",
     "start_time": "2022-09-27T22:37:09.664995Z"
    }
   },
   "outputs": [
    {
     "data": {
      "text/plain": [
       "(60000, 28, 28)"
      ]
     },
     "execution_count": 85,
     "metadata": {},
     "output_type": "execute_result"
    }
   ],
   "source": [
    "x_train.shape"
   ]
  },
  {
   "cell_type": "code",
   "execution_count": 86,
   "metadata": {
    "ExecuteTime": {
     "end_time": "2022-09-27T22:37:09.695309Z",
     "start_time": "2022-09-27T22:37:09.680835Z"
    }
   },
   "outputs": [],
   "source": [
    "# Reshaping the array to 4-dims so that it can work with the Keras API\n",
    "x_train = x_train.reshape(x_train.shape[0],28,28,1) "
   ]
  },
  {
   "cell_type": "code",
   "execution_count": 87,
   "metadata": {
    "ExecuteTime": {
     "end_time": "2022-09-27T22:37:09.710470Z",
     "start_time": "2022-09-27T22:37:09.696306Z"
    }
   },
   "outputs": [],
   "source": [
    "x_test = x_test.reshape(10000,28,28,1)"
   ]
  },
  {
   "cell_type": "markdown",
   "metadata": {},
   "source": [
    "TASK 5: "
   ]
  },
  {
   "cell_type": "code",
   "execution_count": 88,
   "metadata": {
    "ExecuteTime": {
     "end_time": "2022-09-27T22:37:09.725601Z",
     "start_time": "2022-09-27T22:37:09.711459Z"
    }
   },
   "outputs": [],
   "source": [
    "from tensorflow.keras.utils import to_categorical "
   ]
  },
  {
   "cell_type": "code",
   "execution_count": 89,
   "metadata": {
    "ExecuteTime": {
     "end_time": "2022-09-27T22:37:09.741142Z",
     "start_time": "2022-09-27T22:37:09.726593Z"
    }
   },
   "outputs": [
    {
     "data": {
      "text/plain": [
       "array([9, 0, 0, ..., 3, 0, 5], dtype=uint8)"
      ]
     },
     "execution_count": 89,
     "metadata": {},
     "output_type": "execute_result"
    }
   ],
   "source": [
    "y_train"
   ]
  },
  {
   "cell_type": "code",
   "execution_count": 90,
   "metadata": {
    "ExecuteTime": {
     "end_time": "2022-09-27T22:37:09.757112Z",
     "start_time": "2022-09-27T22:37:09.743180Z"
    }
   },
   "outputs": [],
   "source": [
    "y_cat_train = to_categorical(y_train)"
   ]
  },
  {
   "cell_type": "code",
   "execution_count": 91,
   "metadata": {
    "ExecuteTime": {
     "end_time": "2022-09-27T22:37:09.788835Z",
     "start_time": "2022-09-27T22:37:09.760104Z"
    }
   },
   "outputs": [],
   "source": [
    "y_cat_test = to_categorical(y_test)"
   ]
  },
  {
   "cell_type": "code",
   "execution_count": 92,
   "metadata": {
    "ExecuteTime": {
     "end_time": "2022-09-27T22:37:09.803776Z",
     "start_time": "2022-09-27T22:37:09.790831Z"
    }
   },
   "outputs": [
    {
     "data": {
      "text/plain": [
       "array([[0., 0., 0., ..., 0., 0., 1.],\n",
       "       [1., 0., 0., ..., 0., 0., 0.],\n",
       "       [1., 0., 0., ..., 0., 0., 0.],\n",
       "       ...,\n",
       "       [0., 0., 0., ..., 0., 0., 0.],\n",
       "       [1., 0., 0., ..., 0., 0., 0.],\n",
       "       [0., 0., 0., ..., 0., 0., 0.]], dtype=float32)"
      ]
     },
     "execution_count": 92,
     "metadata": {},
     "output_type": "execute_result"
    }
   ],
   "source": [
    "y_cat_train "
   ]
  },
  {
   "cell_type": "markdown",
   "metadata": {},
   "source": [
    "## Building the Model"
   ]
  },
  {
   "cell_type": "code",
   "execution_count": 93,
   "metadata": {
    "ExecuteTime": {
     "end_time": "2022-09-27T22:37:09.819734Z",
     "start_time": "2022-09-27T22:37:09.806769Z"
    }
   },
   "outputs": [],
   "source": [
    "from tensorflow.keras.models import Sequential\n",
    "from tensorflow.keras.layers import Dense, Conv2D, MaxPool2D, Flatten, Dropout"
   ]
  },
  {
   "cell_type": "markdown",
   "metadata": {},
   "source": [
    "### Training the Model\n",
    "TASK 6:"
   ]
  },
  {
   "cell_type": "code",
   "execution_count": 94,
   "metadata": {
    "ExecuteTime": {
     "end_time": "2022-09-27T22:37:09.880718Z",
     "start_time": "2022-09-27T22:37:09.821729Z"
    }
   },
   "outputs": [],
   "source": [
    "# Creating a CNN Model\n",
    "\n",
    "# Initialize the model\n",
    "model = Sequential() \n",
    "\n",
    "# 1st Convolutional Layer with 28 filters and 3x3 kernel size to extract features from the image\n",
    "model.add(Conv2D(filters=28, kernel_size=(3,3),\n",
    "                 input_shape=(28, 28, 1), \n",
    "                 activation='relu',)) \n",
    "\n",
    "# MaxPooling Layer to reduce the size of the image\n",
    "model.add(MaxPool2D(pool_size=(2, 2),strides=(1, 1)))\n",
    "\n",
    "# Flattening the 2D arrays for fully connected layers to 1D\n",
    "model.add(Flatten()) \n",
    "\n",
    "# 1st Fully Connected Layer \n",
    "model.add(Dense(256, activation='relu'))\n",
    "# Dropout for regularization to prevent overfitting\n",
    "model.add(Dropout(0.4)) \n",
    "\n",
    "# Output Layer with 10 neurons to predict the output class\n",
    "model.add(Dense(10, activation='softmax')) \n",
    "\n",
    "# Compiling the CNN model\n",
    "model.compile(loss='categorical_crossentropy', optimizer='rmsprop', metrics=['accuracy']) "
   ]
  },
  {
   "cell_type": "code",
   "execution_count": 95,
   "metadata": {
    "ExecuteTime": {
     "end_time": "2022-09-27T22:37:09.896113Z",
     "start_time": "2022-09-27T22:37:09.882267Z"
    }
   },
   "outputs": [],
   "source": [
    "from tensorflow.keras.callbacks import EarlyStopping "
   ]
  },
  {
   "cell_type": "code",
   "execution_count": 96,
   "metadata": {
    "ExecuteTime": {
     "end_time": "2022-09-27T22:37:09.911680Z",
     "start_time": "2022-09-27T22:37:09.901712Z"
    }
   },
   "outputs": [],
   "source": [
    "early_stop = EarlyStopping(monitor = \"val_accuracy\", patience = 3, restore_best_weights=True) # to stop training if validation accuracy does not increase after 3 epochs"
   ]
  },
  {
   "cell_type": "code",
   "execution_count": 97,
   "metadata": {
    "ExecuteTime": {
     "end_time": "2022-09-27T22:40:23.286919Z",
     "start_time": "2022-09-27T22:37:09.913674Z"
    }
   },
   "outputs": [
    {
     "name": "stdout",
     "output_type": "stream",
     "text": [
      "Epoch 1/10\n",
      "1875/1875 [==============================] - 40s 21ms/step - loss: 0.4092 - accuracy: 0.8572 - val_loss: 0.3241 - val_accuracy: 0.8874\n",
      "Epoch 2/10\n",
      "1875/1875 [==============================] - 38s 21ms/step - loss: 0.2969 - accuracy: 0.8972 - val_loss: 0.3007 - val_accuracy: 0.8978\n",
      "Epoch 3/10\n",
      "1875/1875 [==============================] - 38s 20ms/step - loss: 0.2810 - accuracy: 0.9042 - val_loss: 0.3014 - val_accuracy: 0.8950\n",
      "Epoch 4/10\n",
      "1875/1875 [==============================] - 38s 20ms/step - loss: 0.2745 - accuracy: 0.9068 - val_loss: 0.3121 - val_accuracy: 0.8968\n",
      "Epoch 5/10\n",
      "1875/1875 [==============================] - 38s 20ms/step - loss: 0.2698 - accuracy: 0.9099 - val_loss: 0.3117 - val_accuracy: 0.8946\n"
     ]
    },
    {
     "data": {
      "text/plain": [
       "<keras.callbacks.History at 0x1e3114ada90>"
      ]
     },
     "execution_count": 97,
     "metadata": {},
     "output_type": "execute_result"
    }
   ],
   "source": [
    "# Training the CNN Model\n",
    "model.fit(x_train, y = y_cat_train, validation_data=(x_test,y_cat_test), batch_size = 32, epochs = 10, verbose = 1, \n",
    "          callbacks = [early_stop]) "
   ]
  },
  {
   "cell_type": "code",
   "execution_count": 98,
   "metadata": {
    "ExecuteTime": {
     "end_time": "2022-09-27T22:40:23.302468Z",
     "start_time": "2022-09-27T22:40:23.287916Z"
    }
   },
   "outputs": [
    {
     "data": {
      "text/html": [
       "<div>\n",
       "<style scoped>\n",
       "    .dataframe tbody tr th:only-of-type {\n",
       "        vertical-align: middle;\n",
       "    }\n",
       "\n",
       "    .dataframe tbody tr th {\n",
       "        vertical-align: top;\n",
       "    }\n",
       "\n",
       "    .dataframe thead th {\n",
       "        text-align: right;\n",
       "    }\n",
       "</style>\n",
       "<table border=\"1\" class=\"dataframe\">\n",
       "  <thead>\n",
       "    <tr style=\"text-align: right;\">\n",
       "      <th></th>\n",
       "      <th>loss</th>\n",
       "      <th>accuracy</th>\n",
       "      <th>val_loss</th>\n",
       "      <th>val_accuracy</th>\n",
       "    </tr>\n",
       "  </thead>\n",
       "  <tbody>\n",
       "    <tr>\n",
       "      <th>0</th>\n",
       "      <td>0.409204</td>\n",
       "      <td>0.857167</td>\n",
       "      <td>0.324103</td>\n",
       "      <td>0.8874</td>\n",
       "    </tr>\n",
       "    <tr>\n",
       "      <th>1</th>\n",
       "      <td>0.296934</td>\n",
       "      <td>0.897217</td>\n",
       "      <td>0.300697</td>\n",
       "      <td>0.8978</td>\n",
       "    </tr>\n",
       "    <tr>\n",
       "      <th>2</th>\n",
       "      <td>0.280961</td>\n",
       "      <td>0.904183</td>\n",
       "      <td>0.301398</td>\n",
       "      <td>0.8950</td>\n",
       "    </tr>\n",
       "    <tr>\n",
       "      <th>3</th>\n",
       "      <td>0.274489</td>\n",
       "      <td>0.906783</td>\n",
       "      <td>0.312145</td>\n",
       "      <td>0.8968</td>\n",
       "    </tr>\n",
       "    <tr>\n",
       "      <th>4</th>\n",
       "      <td>0.269796</td>\n",
       "      <td>0.909883</td>\n",
       "      <td>0.311709</td>\n",
       "      <td>0.8946</td>\n",
       "    </tr>\n",
       "  </tbody>\n",
       "</table>\n",
       "</div>"
      ],
      "text/plain": [
       "       loss  accuracy  val_loss  val_accuracy\n",
       "0  0.409204  0.857167  0.324103        0.8874\n",
       "1  0.296934  0.897217  0.300697        0.8978\n",
       "2  0.280961  0.904183  0.301398        0.8950\n",
       "3  0.274489  0.906783  0.312145        0.8968\n",
       "4  0.269796  0.909883  0.311709        0.8946"
      ]
     },
     "execution_count": 98,
     "metadata": {},
     "output_type": "execute_result"
    }
   ],
   "source": [
    "loss_df = pd.DataFrame(model.history.history) # history contains logs of each epoch\n",
    "loss_df.head()"
   ]
  },
  {
   "cell_type": "code",
   "execution_count": 99,
   "metadata": {
    "ExecuteTime": {
     "end_time": "2022-09-27T22:40:23.444248Z",
     "start_time": "2022-09-27T22:40:23.303430Z"
    }
   },
   "outputs": [
    {
     "data": {
      "image/png": "[encoded data removed]",
      "text/plain": [
       "<Figure size 864x432 with 1 Axes>"
      ]
     },
     "metadata": {
      "needs_background": "light"
     },
     "output_type": "display_data"
    }
   ],
   "source": [
    "loss_df.plot(figsize = (12,6)); # to plot the loss vs epochs"
   ]
  },
  {
   "cell_type": "markdown",
   "metadata": {},
   "source": [
    "### Evaluating the Model\n"
   ]
  },
  {
   "cell_type": "code",
   "execution_count": 100,
   "metadata": {
    "ExecuteTime": {
     "end_time": "2022-09-27T22:40:23.459872Z",
     "start_time": "2022-09-27T22:40:23.445380Z"
    }
   },
   "outputs": [
    {
     "data": {
      "text/plain": [
       "['loss', 'accuracy']"
      ]
     },
     "execution_count": 100,
     "metadata": {},
     "output_type": "execute_result"
    }
   ],
   "source": [
    "model.metrics_names"
   ]
  },
  {
   "cell_type": "code",
   "execution_count": 101,
   "metadata": {
    "ExecuteTime": {
     "end_time": "2022-09-27T22:40:25.058018Z",
     "start_time": "2022-09-27T22:40:23.460847Z"
    }
   },
   "outputs": [
    {
     "name": "stdout",
     "output_type": "stream",
     "text": [
      "313/313 [==============================] - 2s 5ms/step - loss: 0.3007 - accuracy: 0.8978\n"
     ]
    },
    {
     "data": {
      "text/plain": [
       "[0.30069682002067566, 0.8978000283241272]"
      ]
     },
     "execution_count": 101,
     "metadata": {},
     "output_type": "execute_result"
    }
   ],
   "source": [
    "model.evaluate(x_test,y_cat_test)"
   ]
  },
  {
   "cell_type": "code",
   "execution_count": 102,
   "metadata": {
    "ExecuteTime": {
     "end_time": "2022-09-27T22:40:25.073145Z",
     "start_time": "2022-09-27T22:40:25.059016Z"
    }
   },
   "outputs": [],
   "source": [
    "from sklearn.metrics import classification_report"
   ]
  },
  {
   "cell_type": "code",
   "execution_count": 154,
   "metadata": {
    "ExecuteTime": {
     "end_time": "2022-09-27T22:52:09.389995Z",
     "start_time": "2022-09-27T22:52:08.081846Z"
    }
   },
   "outputs": [
    {
     "data": {
      "text/plain": [
       "array([[3.34e-06, 6.75e-07, 1.03e-05, ..., 1.88e-03, 4.03e-05, 9.97e-01],\n",
       "       [1.78e-06, 2.25e-12, 1.00e+00, ..., 8.37e-13, 1.17e-09, 2.41e-12],\n",
       "       [3.49e-09, 1.00e+00, 1.35e-10, ..., 1.26e-11, 5.39e-11, 4.46e-12],\n",
       "       ...,\n",
       "       [1.02e-06, 1.29e-13, 1.52e-07, ..., 2.40e-09, 1.00e+00, 2.08e-11],\n",
       "       [9.66e-09, 1.00e+00, 5.10e-10, ..., 2.15e-10, 8.69e-10, 1.23e-09],\n",
       "       [1.47e-02, 2.34e-03, 5.52e-02, ..., 4.17e-02, 1.51e-01, 1.75e-02]],\n",
       "      dtype=float32)"
      ]
     },
     "execution_count": 154,
     "metadata": {},
     "output_type": "execute_result"
    }
   ],
   "source": [
    "predictions = model.predict(x_test)\n",
    "predictions"
   ]
  },
  {
   "cell_type": "code",
   "execution_count": 147,
   "metadata": {
    "ExecuteTime": {
     "end_time": "2022-09-27T22:45:55.945377Z",
     "start_time": "2022-09-27T22:45:55.930994Z"
    }
   },
   "outputs": [
    {
     "data": {
      "text/plain": [
       "array([9, 2, 1, ..., 8, 1, 5], dtype=int64)"
      ]
     },
     "execution_count": 147,
     "metadata": {},
     "output_type": "execute_result"
    }
   ],
   "source": [
    "preds=np.argmax(predictions,axis=1)\n",
    "preds"
   ]
  },
  {
   "cell_type": "code",
   "execution_count": 105,
   "metadata": {
    "ExecuteTime": {
     "end_time": "2022-09-27T22:40:26.193377Z",
     "start_time": "2022-09-27T22:40:26.178563Z"
    }
   },
   "outputs": [
    {
     "data": {
      "text/plain": [
       "(10000, 10)"
      ]
     },
     "execution_count": 105,
     "metadata": {},
     "output_type": "execute_result"
    }
   ],
   "source": [
    "y_cat_test.shape"
   ]
  },
  {
   "cell_type": "code",
   "execution_count": 106,
   "metadata": {
    "ExecuteTime": {
     "end_time": "2022-09-27T22:40:26.208887Z",
     "start_time": "2022-09-27T22:40:26.194348Z"
    }
   },
   "outputs": [
    {
     "data": {
      "text/plain": [
       "array([0., 0., 0., 0., 0., 0., 0., 0., 0., 1.], dtype=float32)"
      ]
     },
     "execution_count": 106,
     "metadata": {},
     "output_type": "execute_result"
    }
   ],
   "source": [
    "y_cat_test[0]"
   ]
  },
  {
   "cell_type": "code",
   "execution_count": 107,
   "metadata": {
    "ExecuteTime": {
     "end_time": "2022-09-27T22:40:26.224913Z",
     "start_time": "2022-09-27T22:40:26.209856Z"
    }
   },
   "outputs": [
    {
     "data": {
      "text/plain": [
       "9"
      ]
     },
     "execution_count": 107,
     "metadata": {},
     "output_type": "execute_result"
    }
   ],
   "source": [
    "np.argmax(predictions[0])"
   ]
  },
  {
   "cell_type": "code",
   "execution_count": 108,
   "metadata": {
    "ExecuteTime": {
     "end_time": "2022-09-27T22:40:26.240729Z",
     "start_time": "2022-09-27T22:40:26.225900Z"
    }
   },
   "outputs": [
    {
     "data": {
      "text/plain": [
       "array([9, 2, 1, ..., 8, 1, 5], dtype=uint8)"
      ]
     },
     "execution_count": 108,
     "metadata": {},
     "output_type": "execute_result"
    }
   ],
   "source": [
    "y_test"
   ]
  },
  {
   "cell_type": "code",
   "execution_count": 109,
   "metadata": {
    "ExecuteTime": {
     "end_time": "2022-09-27T22:40:26.271580Z",
     "start_time": "2022-09-27T22:40:26.242723Z"
    }
   },
   "outputs": [
    {
     "name": "stdout",
     "output_type": "stream",
     "text": [
      "              precision    recall  f1-score   support\n",
      "\n",
      "           0       0.87      0.80      0.83      1000\n",
      "           1       0.99      0.97      0.98      1000\n",
      "           2       0.86      0.83      0.84      1000\n",
      "           3       0.86      0.94      0.89      1000\n",
      "           4       0.82      0.87      0.84      1000\n",
      "           5       0.99      0.97      0.98      1000\n",
      "           6       0.72      0.69      0.71      1000\n",
      "           7       0.94      0.98      0.96      1000\n",
      "           8       0.97      0.98      0.97      1000\n",
      "           9       0.97      0.96      0.97      1000\n",
      "\n",
      "    accuracy                           0.90     10000\n",
      "   macro avg       0.90      0.90      0.90     10000\n",
      "weighted avg       0.90      0.90      0.90     10000\n",
      "\n"
     ]
    }
   ],
   "source": [
    "print(classification_report(y_test,preds))"
   ]
  },
  {
   "cell_type": "code",
   "execution_count": 110,
   "metadata": {
    "ExecuteTime": {
     "end_time": "2022-09-27T22:40:26.287538Z",
     "start_time": "2022-09-27T22:40:26.272578Z"
    }
   },
   "outputs": [
    {
     "data": {
      "text/plain": [
       "'Shirt'"
      ]
     },
     "execution_count": 110,
     "metadata": {},
     "output_type": "execute_result"
    }
   ],
   "source": [
    "classes[6]"
   ]
  },
  {
   "cell_type": "markdown",
   "metadata": {},
   "source": [
    "## Prediction"
   ]
  },
  {
   "cell_type": "code",
   "execution_count": 111,
   "metadata": {
    "ExecuteTime": {
     "end_time": "2022-09-27T22:40:26.303191Z",
     "start_time": "2022-09-27T22:40:26.288536Z"
    }
   },
   "outputs": [],
   "source": [
    "samples=[x_test[19],x_test[15],x_test[12],x_test[14]]"
   ]
  },
  {
   "cell_type": "code",
   "execution_count": 112,
   "metadata": {
    "ExecuteTime": {
     "end_time": "2022-09-27T22:40:26.398450Z",
     "start_time": "2022-09-27T22:40:26.304191Z"
    }
   },
   "outputs": [
    {
     "data": {
      "text/plain": [
       "<matplotlib.image.AxesImage at 0x1e31192cb20>"
      ]
     },
     "execution_count": 112,
     "metadata": {},
     "output_type": "execute_result"
    },
    {
     "data": {
      "image/png": "[encoded data removed]",
      "text/plain": [
       "<Figure size 432x288 with 1 Axes>"
      ]
     },
     "metadata": {
      "needs_background": "light"
     },
     "output_type": "display_data"
    }
   ],
   "source": [
    "plt.imshow(samples[0])"
   ]
  },
  {
   "cell_type": "code",
   "execution_count": 113,
   "metadata": {
    "ExecuteTime": {
     "end_time": "2022-09-27T22:40:26.413715Z",
     "start_time": "2022-09-27T22:40:26.399449Z"
    },
    "jupyter": {
     "outputs_hidden": true
    },
    "scrolled": true,
    "tags": []
   },
   "outputs": [
    {
     "data": {
      "text/plain": [
       "array([[[0.        ],\n",
       "        [0.        ],\n",
       "        [0.        ],\n",
       "        [0.        ],\n",
       "        [0.        ],\n",
       "        [0.        ],\n",
       "        [0.        ],\n",
       "        [0.        ],\n",
       "        [0.        ],\n",
       "        [0.20392157],\n",
       "        [0.75294118],\n",
       "        [0.45098039],\n",
       "        [0.10588235],\n",
       "        [0.00392157],\n",
       "        [0.00392157],\n",
       "        [0.12156863],\n",
       "        [0.56078431],\n",
       "        [0.70196078],\n",
       "        [0.1254902 ],\n",
       "        [0.        ],\n",
       "        [0.        ],\n",
       "        [0.        ],\n",
       "        [0.        ],\n",
       "        [0.        ],\n",
       "        [0.        ],\n",
       "        [0.        ],\n",
       "        [0.        ],\n",
       "        [0.        ]],\n",
       "\n",
       "       [[0.        ],\n",
       "        [0.        ],\n",
       "        [0.        ],\n",
       "        [0.        ],\n",
       "        [0.        ],\n",
       "        [0.        ],\n",
       "        [0.01960784],\n",
       "        [0.44313725],\n",
       "        [0.7254902 ],\n",
       "        [0.84705882],\n",
       "        [0.74509804],\n",
       "        [0.89803922],\n",
       "        [0.92941176],\n",
       "        [0.8627451 ],\n",
       "        [0.85098039],\n",
       "        [0.94901961],\n",
       "        [0.78823529],\n",
       "        [0.74901961],\n",
       "        [0.87058824],\n",
       "        [0.65490196],\n",
       "        [0.34117647],\n",
       "        [0.        ],\n",
       "        [0.        ],\n",
       "        [0.        ],\n",
       "        [0.        ],\n",
       "        [0.        ],\n",
       "        [0.        ],\n",
       "        [0.        ]],\n",
       "\n",
       "       [[0.        ],\n",
       "        [0.        ],\n",
       "        [0.        ],\n",
       "        [0.        ],\n",
       "        [0.        ],\n",
       "        [0.19607843],\n",
       "        [0.68627451],\n",
       "        [0.76078431],\n",
       "        [0.74117647],\n",
       "        [0.72941176],\n",
       "        [0.7254902 ],\n",
       "        [0.73333333],\n",
       "        [0.78039216],\n",
       "        [0.7372549 ],\n",
       "        [0.72156863],\n",
       "        [0.75686275],\n",
       "        [0.7254902 ],\n",
       "        [0.7372549 ],\n",
       "        [0.71764706],\n",
       "        [0.73333333],\n",
       "        [0.75686275],\n",
       "        [0.82352941],\n",
       "        [0.05882353],\n",
       "        [0.        ],\n",
       "        [0.        ],\n",
       "        [0.        ],\n",
       "        [0.        ],\n",
       "        [0.        ]],\n",
       "\n",
       "       [[0.        ],\n",
       "        [0.        ],\n",
       "        [0.        ],\n",
       "        [0.        ],\n",
       "        [0.        ],\n",
       "        [0.78039216],\n",
       "        [0.76078431],\n",
       "        [0.70980392],\n",
       "        [0.7372549 ],\n",
       "        [0.74509804],\n",
       "        [0.74117647],\n",
       "        [0.7372549 ],\n",
       "        [0.75294118],\n",
       "        [0.78039216],\n",
       "        [0.77254902],\n",
       "        [0.76470588],\n",
       "        [0.75294118],\n",
       "        [0.74901961],\n",
       "        [0.7372549 ],\n",
       "        [0.72156863],\n",
       "        [0.69411765],\n",
       "        [0.74117647],\n",
       "        [0.69803922],\n",
       "        [0.        ],\n",
       "        [0.        ],\n",
       "        [0.        ],\n",
       "        [0.        ],\n",
       "        [0.        ]],\n",
       "\n",
       "       [[0.        ],\n",
       "        [0.        ],\n",
       "        [0.        ],\n",
       "        [0.        ],\n",
       "        [0.18823529],\n",
       "        [0.76078431],\n",
       "        [0.74117647],\n",
       "        [0.74117647],\n",
       "        [0.75686275],\n",
       "        [0.74117647],\n",
       "        [0.74117647],\n",
       "        [0.7372549 ],\n",
       "        [0.7372549 ],\n",
       "        [0.74901961],\n",
       "        [0.74901961],\n",
       "        [0.74509804],\n",
       "        [0.75686275],\n",
       "        [0.74509804],\n",
       "        [0.7372549 ],\n",
       "        [0.72941176],\n",
       "        [0.76078431],\n",
       "        [0.72156863],\n",
       "        [0.74117647],\n",
       "        [0.16470588],\n",
       "        [0.        ],\n",
       "        [0.        ],\n",
       "        [0.        ],\n",
       "        [0.        ]],\n",
       "\n",
       "       [[0.        ],\n",
       "        [0.        ],\n",
       "        [0.        ],\n",
       "        [0.        ],\n",
       "        [0.76078431],\n",
       "        [0.89411765],\n",
       "        [0.76862745],\n",
       "        [0.74509804],\n",
       "        [0.74117647],\n",
       "        [0.74901961],\n",
       "        [0.69411765],\n",
       "        [0.69411765],\n",
       "        [0.70980392],\n",
       "        [0.73333333],\n",
       "        [0.72941176],\n",
       "        [0.72156863],\n",
       "        [0.70588235],\n",
       "        [0.70980392],\n",
       "        [0.7372549 ],\n",
       "        [0.75294118],\n",
       "        [0.7372549 ],\n",
       "        [0.73333333],\n",
       "        [0.74901961],\n",
       "        [0.49411765],\n",
       "        [0.        ],\n",
       "        [0.        ],\n",
       "        [0.        ],\n",
       "        [0.        ]],\n",
       "\n",
       "       [[0.        ],\n",
       "        [0.        ],\n",
       "        [0.        ],\n",
       "        [0.        ],\n",
       "        [0.85882353],\n",
       "        [0.93333333],\n",
       "        [0.80392157],\n",
       "        [0.74509804],\n",
       "        [0.74509804],\n",
       "        [0.70196078],\n",
       "        [0.75294118],\n",
       "        [0.8627451 ],\n",
       "        [0.81960784],\n",
       "        [0.87843137],\n",
       "        [0.90588235],\n",
       "        [0.8627451 ],\n",
       "        [0.89019608],\n",
       "        [0.80784314],\n",
       "        [0.72156863],\n",
       "        [0.74117647],\n",
       "        [0.7372549 ],\n",
       "        [0.76862745],\n",
       "        [0.72941176],\n",
       "        [0.74509804],\n",
       "        [0.        ],\n",
       "        [0.        ],\n",
       "        [0.        ],\n",
       "        [0.        ]],\n",
       "\n",
       "       [[0.        ],\n",
       "        [0.        ],\n",
       "        [0.        ],\n",
       "        [0.25882353],\n",
       "        [0.92156863],\n",
       "        [0.88235294],\n",
       "        [0.79215686],\n",
       "        [0.7372549 ],\n",
       "        [0.74509804],\n",
       "        [0.86666667],\n",
       "        [0.83921569],\n",
       "        [0.74117647],\n",
       "        [0.63137255],\n",
       "        [0.6627451 ],\n",
       "        [0.74901961],\n",
       "        [0.69019608],\n",
       "        [0.81176471],\n",
       "        [0.76078431],\n",
       "        [0.9372549 ],\n",
       "        [0.74901961],\n",
       "        [0.7254902 ],\n",
       "        [0.76862745],\n",
       "        [0.72156863],\n",
       "        [0.69803922],\n",
       "        [0.18431373],\n",
       "        [0.        ],\n",
       "        [0.        ],\n",
       "        [0.        ]],\n",
       "\n",
       "       [[0.        ],\n",
       "        [0.        ],\n",
       "        [0.        ],\n",
       "        [0.51372549],\n",
       "        [0.95294118],\n",
       "        [0.85098039],\n",
       "        [0.77647059],\n",
       "        [0.73333333],\n",
       "        [0.89803922],\n",
       "        [0.70196078],\n",
       "        [0.67058824],\n",
       "        [0.64705882],\n",
       "        [0.63137255],\n",
       "        [0.67843137],\n",
       "        [0.68627451],\n",
       "        [0.61960784],\n",
       "        [0.68627451],\n",
       "        [0.46666667],\n",
       "        [0.70196078],\n",
       "        [0.9372549 ],\n",
       "        [0.70980392],\n",
       "        [0.75294118],\n",
       "        [0.74509804],\n",
       "        [0.76862745],\n",
       "        [0.45098039],\n",
       "        [0.        ],\n",
       "        [0.        ],\n",
       "        [0.        ]],\n",
       "\n",
       "       [[0.        ],\n",
       "        [0.        ],\n",
       "        [0.        ],\n",
       "        [0.        ],\n",
       "        [0.41960784],\n",
       "        [0.88235294],\n",
       "        [1.        ],\n",
       "        [0.7372549 ],\n",
       "        [0.82745098],\n",
       "        [0.68235294],\n",
       "        [0.48235294],\n",
       "        [0.8745098 ],\n",
       "        [0.86666667],\n",
       "        [0.89411765],\n",
       "        [0.94117647],\n",
       "        [0.85098039],\n",
       "        [0.82745098],\n",
       "        [0.58823529],\n",
       "        [0.8627451 ],\n",
       "        [0.83921569],\n",
       "        [0.7254902 ],\n",
       "        [0.84313725],\n",
       "        [0.81960784],\n",
       "        [0.27843137],\n",
       "        [0.        ],\n",
       "        [0.        ],\n",
       "        [0.        ],\n",
       "        [0.        ]],\n",
       "\n",
       "       [[0.        ],\n",
       "        [0.        ],\n",
       "        [0.        ],\n",
       "        [0.        ],\n",
       "        [0.        ],\n",
       "        [0.        ],\n",
       "        [0.38823529],\n",
       "        [0.85882353],\n",
       "        [0.72941176],\n",
       "        [0.88627451],\n",
       "        [0.92156863],\n",
       "        [0.88627451],\n",
       "        [0.77647059],\n",
       "        [0.74509804],\n",
       "        [0.72941176],\n",
       "        [0.76862745],\n",
       "        [0.82745098],\n",
       "        [0.87843137],\n",
       "        [0.90196078],\n",
       "        [0.72156863],\n",
       "        [0.81960784],\n",
       "        [0.45098039],\n",
       "        [0.        ],\n",
       "        [0.        ],\n",
       "        [0.        ],\n",
       "        [0.        ],\n",
       "        [0.        ],\n",
       "        [0.        ]],\n",
       "\n",
       "       [[0.        ],\n",
       "        [0.        ],\n",
       "        [0.        ],\n",
       "        [0.00392157],\n",
       "        [0.00784314],\n",
       "        [0.        ],\n",
       "        [0.        ],\n",
       "        [0.85882353],\n",
       "        [0.78039216],\n",
       "        [0.75686275],\n",
       "        [0.8       ],\n",
       "        [0.72156863],\n",
       "        [0.74509804],\n",
       "        [0.75294118],\n",
       "        [0.76470588],\n",
       "        [0.7372549 ],\n",
       "        [0.83137255],\n",
       "        [0.90588235],\n",
       "        [0.89019608],\n",
       "        [0.85098039],\n",
       "        [0.76470588],\n",
       "        [0.        ],\n",
       "        [0.        ],\n",
       "        [0.01176471],\n",
       "        [0.        ],\n",
       "        [0.        ],\n",
       "        [0.        ],\n",
       "        [0.        ]],\n",
       "\n",
       "       [[0.        ],\n",
       "        [0.        ],\n",
       "        [0.        ],\n",
       "        [0.        ],\n",
       "        [0.00784314],\n",
       "        [0.        ],\n",
       "        [0.        ],\n",
       "        [0.87058824],\n",
       "        [0.77647059],\n",
       "        [0.76862745],\n",
       "        [0.76470588],\n",
       "        [0.77254902],\n",
       "        [0.76078431],\n",
       "        [0.75686275],\n",
       "        [0.77647059],\n",
       "        [0.71764706],\n",
       "        [0.89411765],\n",
       "        [0.95686275],\n",
       "        [0.89019608],\n",
       "        [0.84705882],\n",
       "        [0.76470588],\n",
       "        [0.        ],\n",
       "        [0.        ],\n",
       "        [0.        ],\n",
       "        [0.        ],\n",
       "        [0.        ],\n",
       "        [0.        ],\n",
       "        [0.        ]],\n",
       "\n",
       "       [[0.        ],\n",
       "        [0.        ],\n",
       "        [0.        ],\n",
       "        [0.        ],\n",
       "        [0.00392157],\n",
       "        [0.        ],\n",
       "        [0.        ],\n",
       "        [0.85098039],\n",
       "        [0.77254902],\n",
       "        [0.76862745],\n",
       "        [0.78039216],\n",
       "        [0.77254902],\n",
       "        [0.76470588],\n",
       "        [0.77254902],\n",
       "        [0.76470588],\n",
       "        [0.76078431],\n",
       "        [0.78823529],\n",
       "        [0.90980392],\n",
       "        [0.89019608],\n",
       "        [0.81960784],\n",
       "        [0.71764706],\n",
       "        [0.        ],\n",
       "        [0.        ],\n",
       "        [0.00392157],\n",
       "        [0.        ],\n",
       "        [0.        ],\n",
       "        [0.        ],\n",
       "        [0.        ]],\n",
       "\n",
       "       [[0.        ],\n",
       "        [0.        ],\n",
       "        [0.        ],\n",
       "        [0.        ],\n",
       "        [0.00784314],\n",
       "        [0.        ],\n",
       "        [0.        ],\n",
       "        [0.85098039],\n",
       "        [0.77254902],\n",
       "        [0.77254902],\n",
       "        [0.78039216],\n",
       "        [0.77647059],\n",
       "        [0.77647059],\n",
       "        [0.78039216],\n",
       "        [0.76862745],\n",
       "        [0.79215686],\n",
       "        [0.74901961],\n",
       "        [0.75686275],\n",
       "        [0.76470588],\n",
       "        [0.77254902],\n",
       "        [0.72156863],\n",
       "        [0.        ],\n",
       "        [0.        ],\n",
       "        [0.        ],\n",
       "        [0.        ],\n",
       "        [0.        ],\n",
       "        [0.        ],\n",
       "        [0.        ]],\n",
       "\n",
       "       [[0.        ],\n",
       "        [0.        ],\n",
       "        [0.        ],\n",
       "        [0.        ],\n",
       "        [0.00784314],\n",
       "        [0.        ],\n",
       "        [0.        ],\n",
       "        [0.84313725],\n",
       "        [0.77647059],\n",
       "        [0.77647059],\n",
       "        [0.78039216],\n",
       "        [0.78039216],\n",
       "        [0.78823529],\n",
       "        [0.78823529],\n",
       "        [0.77647059],\n",
       "        [0.78823529],\n",
       "        [0.77254902],\n",
       "        [0.75686275],\n",
       "        [0.7254902 ],\n",
       "        [0.77647059],\n",
       "        [0.71764706],\n",
       "        [0.        ],\n",
       "        [0.        ],\n",
       "        [0.00392157],\n",
       "        [0.        ],\n",
       "        [0.        ],\n",
       "        [0.        ],\n",
       "        [0.        ]],\n",
       "\n",
       "       [[0.        ],\n",
       "        [0.        ],\n",
       "        [0.        ],\n",
       "        [0.        ],\n",
       "        [0.00784314],\n",
       "        [0.        ],\n",
       "        [0.        ],\n",
       "        [0.83137255],\n",
       "        [0.78039216],\n",
       "        [0.77647059],\n",
       "        [0.77647059],\n",
       "        [0.78823529],\n",
       "        [0.79215686],\n",
       "        [0.79215686],\n",
       "        [0.77254902],\n",
       "        [0.78039216],\n",
       "        [0.77647059],\n",
       "        [0.77647059],\n",
       "        [0.74509804],\n",
       "        [0.78039216],\n",
       "        [0.71764706],\n",
       "        [0.        ],\n",
       "        [0.        ],\n",
       "        [0.00392157],\n",
       "        [0.        ],\n",
       "        [0.        ],\n",
       "        [0.        ],\n",
       "        [0.        ]],\n",
       "\n",
       "       [[0.        ],\n",
       "        [0.        ],\n",
       "        [0.        ],\n",
       "        [0.        ],\n",
       "        [0.00784314],\n",
       "        [0.        ],\n",
       "        [0.        ],\n",
       "        [0.83921569],\n",
       "        [0.78823529],\n",
       "        [0.78039216],\n",
       "        [0.78039216],\n",
       "        [0.78823529],\n",
       "        [0.79215686],\n",
       "        [0.79215686],\n",
       "        [0.78039216],\n",
       "        [0.78823529],\n",
       "        [0.77647059],\n",
       "        [0.77254902],\n",
       "        [0.74901961],\n",
       "        [0.77647059],\n",
       "        [0.7254902 ],\n",
       "        [0.        ],\n",
       "        [0.        ],\n",
       "        [0.00392157],\n",
       "        [0.        ],\n",
       "        [0.        ],\n",
       "        [0.        ],\n",
       "        [0.        ]],\n",
       "\n",
       "       [[0.        ],\n",
       "        [0.        ],\n",
       "        [0.        ],\n",
       "        [0.        ],\n",
       "        [0.00784314],\n",
       "        [0.        ],\n",
       "        [0.        ],\n",
       "        [0.84705882],\n",
       "        [0.79607843],\n",
       "        [0.78039216],\n",
       "        [0.78823529],\n",
       "        [0.79215686],\n",
       "        [0.8       ],\n",
       "        [0.79215686],\n",
       "        [0.78039216],\n",
       "        [0.78823529],\n",
       "        [0.77647059],\n",
       "        [0.77254902],\n",
       "        [0.75686275],\n",
       "        [0.76862745],\n",
       "        [0.74901961],\n",
       "        [0.        ],\n",
       "        [0.        ],\n",
       "        [0.00392157],\n",
       "        [0.        ],\n",
       "        [0.        ],\n",
       "        [0.        ],\n",
       "        [0.        ]],\n",
       "\n",
       "       [[0.        ],\n",
       "        [0.        ],\n",
       "        [0.        ],\n",
       "        [0.        ],\n",
       "        [0.00784314],\n",
       "        [0.        ],\n",
       "        [0.        ],\n",
       "        [0.85098039],\n",
       "        [0.79215686],\n",
       "        [0.77254902],\n",
       "        [0.79607843],\n",
       "        [0.79215686],\n",
       "        [0.79215686],\n",
       "        [0.8       ],\n",
       "        [0.79607843],\n",
       "        [0.79215686],\n",
       "        [0.78823529],\n",
       "        [0.77647059],\n",
       "        [0.76470588],\n",
       "        [0.76470588],\n",
       "        [0.78823529],\n",
       "        [0.        ],\n",
       "        [0.        ],\n",
       "        [0.00392157],\n",
       "        [0.        ],\n",
       "        [0.        ],\n",
       "        [0.        ],\n",
       "        [0.        ]],\n",
       "\n",
       "       [[0.        ],\n",
       "        [0.        ],\n",
       "        [0.        ],\n",
       "        [0.        ],\n",
       "        [0.01176471],\n",
       "        [0.        ],\n",
       "        [0.        ],\n",
       "        [0.85098039],\n",
       "        [0.78039216],\n",
       "        [0.77254902],\n",
       "        [0.80392157],\n",
       "        [0.79607843],\n",
       "        [0.79607843],\n",
       "        [0.8       ],\n",
       "        [0.79215686],\n",
       "        [0.79215686],\n",
       "        [0.79215686],\n",
       "        [0.78039216],\n",
       "        [0.76470588],\n",
       "        [0.76470588],\n",
       "        [0.8       ],\n",
       "        [0.        ],\n",
       "        [0.        ],\n",
       "        [0.00392157],\n",
       "        [0.        ],\n",
       "        [0.        ],\n",
       "        [0.        ],\n",
       "        [0.        ]],\n",
       "\n",
       "       [[0.        ],\n",
       "        [0.        ],\n",
       "        [0.        ],\n",
       "        [0.        ],\n",
       "        [0.00784314],\n",
       "        [0.        ],\n",
       "        [0.        ],\n",
       "        [0.86666667],\n",
       "        [0.77647059],\n",
       "        [0.77647059],\n",
       "        [0.8       ],\n",
       "        [0.79215686],\n",
       "        [0.79215686],\n",
       "        [0.79607843],\n",
       "        [0.78823529],\n",
       "        [0.78039216],\n",
       "        [0.78823529],\n",
       "        [0.78039216],\n",
       "        [0.76470588],\n",
       "        [0.76862745],\n",
       "        [0.77647059],\n",
       "        [0.        ],\n",
       "        [0.        ],\n",
       "        [0.00392157],\n",
       "        [0.        ],\n",
       "        [0.        ],\n",
       "        [0.        ],\n",
       "        [0.        ]],\n",
       "\n",
       "       [[0.        ],\n",
       "        [0.        ],\n",
       "        [0.        ],\n",
       "        [0.        ],\n",
       "        [0.00784314],\n",
       "        [0.        ],\n",
       "        [0.        ],\n",
       "        [0.87843137],\n",
       "        [0.77647059],\n",
       "        [0.78823529],\n",
       "        [0.78823529],\n",
       "        [0.78039216],\n",
       "        [0.78039216],\n",
       "        [0.79215686],\n",
       "        [0.78823529],\n",
       "        [0.78039216],\n",
       "        [0.78039216],\n",
       "        [0.78039216],\n",
       "        [0.76470588],\n",
       "        [0.76862745],\n",
       "        [0.76078431],\n",
       "        [0.        ],\n",
       "        [0.        ],\n",
       "        [0.00392157],\n",
       "        [0.        ],\n",
       "        [0.        ],\n",
       "        [0.        ],\n",
       "        [0.        ]],\n",
       "\n",
       "       [[0.        ],\n",
       "        [0.        ],\n",
       "        [0.        ],\n",
       "        [0.        ],\n",
       "        [0.00784314],\n",
       "        [0.        ],\n",
       "        [0.04313725],\n",
       "        [0.74901961],\n",
       "        [0.76078431],\n",
       "        [0.79607843],\n",
       "        [0.78823529],\n",
       "        [0.78039216],\n",
       "        [0.77254902],\n",
       "        [0.77647059],\n",
       "        [0.78039216],\n",
       "        [0.77647059],\n",
       "        [0.77647059],\n",
       "        [0.77647059],\n",
       "        [0.78039216],\n",
       "        [0.77647059],\n",
       "        [0.76470588],\n",
       "        [0.        ],\n",
       "        [0.        ],\n",
       "        [0.00392157],\n",
       "        [0.        ],\n",
       "        [0.        ],\n",
       "        [0.        ],\n",
       "        [0.        ]],\n",
       "\n",
       "       [[0.        ],\n",
       "        [0.        ],\n",
       "        [0.        ],\n",
       "        [0.        ],\n",
       "        [0.00784314],\n",
       "        [0.        ],\n",
       "        [0.04313725],\n",
       "        [0.75686275],\n",
       "        [0.76862745],\n",
       "        [0.78823529],\n",
       "        [0.76862745],\n",
       "        [0.76862745],\n",
       "        [0.76862745],\n",
       "        [0.76862745],\n",
       "        [0.77254902],\n",
       "        [0.77647059],\n",
       "        [0.77647059],\n",
       "        [0.77254902],\n",
       "        [0.77647059],\n",
       "        [0.77647059],\n",
       "        [0.8       ],\n",
       "        [0.        ],\n",
       "        [0.        ],\n",
       "        [0.00392157],\n",
       "        [0.        ],\n",
       "        [0.        ],\n",
       "        [0.        ],\n",
       "        [0.        ]],\n",
       "\n",
       "       [[0.        ],\n",
       "        [0.        ],\n",
       "        [0.        ],\n",
       "        [0.        ],\n",
       "        [0.00784314],\n",
       "        [0.        ],\n",
       "        [0.03921569],\n",
       "        [0.74901961],\n",
       "        [0.76862745],\n",
       "        [0.75686275],\n",
       "        [0.75686275],\n",
       "        [0.76078431],\n",
       "        [0.77254902],\n",
       "        [0.76470588],\n",
       "        [0.76470588],\n",
       "        [0.77254902],\n",
       "        [0.77254902],\n",
       "        [0.76862745],\n",
       "        [0.76078431],\n",
       "        [0.77254902],\n",
       "        [0.78039216],\n",
       "        [0.        ],\n",
       "        [0.        ],\n",
       "        [0.00392157],\n",
       "        [0.        ],\n",
       "        [0.        ],\n",
       "        [0.        ],\n",
       "        [0.        ]],\n",
       "\n",
       "       [[0.        ],\n",
       "        [0.        ],\n",
       "        [0.        ],\n",
       "        [0.        ],\n",
       "        [0.01176471],\n",
       "        [0.        ],\n",
       "        [0.04313725],\n",
       "        [0.77647059],\n",
       "        [0.8       ],\n",
       "        [0.80392157],\n",
       "        [0.78823529],\n",
       "        [0.77254902],\n",
       "        [0.77647059],\n",
       "        [0.75686275],\n",
       "        [0.74901961],\n",
       "        [0.76470588],\n",
       "        [0.77647059],\n",
       "        [0.79215686],\n",
       "        [0.79607843],\n",
       "        [0.80784314],\n",
       "        [0.87058824],\n",
       "        [0.        ],\n",
       "        [0.        ],\n",
       "        [0.00392157],\n",
       "        [0.        ],\n",
       "        [0.        ],\n",
       "        [0.        ],\n",
       "        [0.        ]],\n",
       "\n",
       "       [[0.        ],\n",
       "        [0.        ],\n",
       "        [0.        ],\n",
       "        [0.        ],\n",
       "        [0.00784314],\n",
       "        [0.        ],\n",
       "        [0.        ],\n",
       "        [0.68627451],\n",
       "        [0.70588235],\n",
       "        [0.65882353],\n",
       "        [0.75686275],\n",
       "        [0.79215686],\n",
       "        [0.79215686],\n",
       "        [0.76078431],\n",
       "        [0.76470588],\n",
       "        [0.79215686],\n",
       "        [0.80784314],\n",
       "        [0.76470588],\n",
       "        [0.73333333],\n",
       "        [0.67843137],\n",
       "        [0.58039216],\n",
       "        [0.        ],\n",
       "        [0.        ],\n",
       "        [0.00392157],\n",
       "        [0.        ],\n",
       "        [0.        ],\n",
       "        [0.        ],\n",
       "        [0.        ]]])"
      ]
     },
     "execution_count": 113,
     "metadata": {},
     "output_type": "execute_result"
    }
   ],
   "source": [
    "samples[0]"
   ]
  },
  {
   "cell_type": "code",
   "execution_count": 114,
   "metadata": {
    "ExecuteTime": {
     "end_time": "2022-09-27T22:40:26.428677Z",
     "start_time": "2022-09-27T22:40:26.415711Z"
    },
    "tags": []
   },
   "outputs": [
    {
     "data": {
      "text/plain": [
       "(28, 28, 1)"
      ]
     },
     "execution_count": 114,
     "metadata": {},
     "output_type": "execute_result"
    }
   ],
   "source": [
    "img=samples[0]\n",
    "img.shape"
   ]
  },
  {
   "cell_type": "code",
   "execution_count": 115,
   "metadata": {
    "ExecuteTime": {
     "end_time": "2022-09-27T22:40:26.444088Z",
     "start_time": "2022-09-27T22:40:26.429673Z"
    }
   },
   "outputs": [
    {
     "data": {
      "text/plain": [
       "numpy.ndarray"
      ]
     },
     "execution_count": 115,
     "metadata": {},
     "output_type": "execute_result"
    }
   ],
   "source": [
    "type(img)"
   ]
  },
  {
   "cell_type": "code",
   "execution_count": 116,
   "metadata": {
    "ExecuteTime": {
     "end_time": "2022-09-27T22:40:26.459993Z",
     "start_time": "2022-09-27T22:40:26.445061Z"
    }
   },
   "outputs": [
    {
     "data": {
      "text/plain": [
       "(1, 28, 28, 1)"
      ]
     },
     "execution_count": 116,
     "metadata": {},
     "output_type": "execute_result"
    }
   ],
   "source": [
    "resized_img=np.expand_dims(img, axis=0)\n",
    "resized_img.shape"
   ]
  },
  {
   "cell_type": "code",
   "execution_count": 117,
   "metadata": {
    "ExecuteTime": {
     "end_time": "2022-09-27T22:40:26.585771Z",
     "start_time": "2022-09-27T22:40:26.460991Z"
    }
   },
   "outputs": [
    {
     "data": {
      "text/plain": [
       "array([[9.3965083e-01, 5.6611981e-07, 1.6366825e-03, 2.5864965e-03,\n",
       "        8.5765259e-06, 5.1027814e-06, 5.5999767e-02, 1.5839150e-05,\n",
       "        9.5746669e-05, 3.3540050e-07]], dtype=float32)"
      ]
     },
     "execution_count": 117,
     "metadata": {},
     "output_type": "execute_result"
    }
   ],
   "source": [
    "model.predict(resized_img)"
   ]
  },
  {
   "cell_type": "code",
   "execution_count": 118,
   "metadata": {
    "ExecuteTime": {
     "end_time": "2022-09-27T22:40:26.725780Z",
     "start_time": "2022-09-27T22:40:26.586748Z"
    }
   },
   "outputs": [
    {
     "data": {
      "text/plain": [
       "0"
      ]
     },
     "execution_count": 118,
     "metadata": {},
     "output_type": "execute_result"
    }
   ],
   "source": [
    "np.argmax(model.predict(resized_img))"
   ]
  },
  {
   "cell_type": "code",
   "execution_count": 119,
   "metadata": {
    "ExecuteTime": {
     "end_time": "2022-09-27T22:40:26.741626Z",
     "start_time": "2022-09-27T22:40:26.727776Z"
    }
   },
   "outputs": [
    {
     "data": {
      "text/plain": [
       "'T-shirt/top'"
      ]
     },
     "execution_count": 119,
     "metadata": {},
     "output_type": "execute_result"
    }
   ],
   "source": [
    "classes[0]"
   ]
  },
  {
   "cell_type": "code",
   "execution_count": 120,
   "metadata": {
    "ExecuteTime": {
     "end_time": "2022-09-27T22:40:27.688116Z",
     "start_time": "2022-09-27T22:40:26.743222Z"
    }
   },
   "outputs": [
    {
     "name": "stdout",
     "output_type": "stream",
     "text": [
      "T-shirt/top    0.940\n",
      "Trouser        0.000\n",
      "Pullover       0.002\n",
      "Dress          0.003\n",
      "Coat           0.000\n",
      "Sandal         0.000\n",
      "Shirt          0.056\n",
      "Sneaker        0.000\n",
      "Bag            0.000\n",
      "Ankle boot     0.000\n",
      "dtype: float32\n",
      "predicted class is : T-shirt/top\n",
      "\n",
      "T-shirt/top    0.0\n",
      "Trouser        1.0\n",
      "Pullover       0.0\n",
      "Dress          0.0\n",
      "Coat           0.0\n",
      "Sandal         0.0\n",
      "Shirt          0.0\n",
      "Sneaker        0.0\n",
      "Bag            0.0\n",
      "Ankle boot     0.0\n",
      "dtype: float32\n",
      "predicted class is : Trouser\n",
      "\n",
      "T-shirt/top    0.000\n",
      "Trouser        0.000\n",
      "Pullover       0.000\n",
      "Dress          0.000\n",
      "Coat           0.000\n",
      "Sandal         0.210\n",
      "Shirt          0.000\n",
      "Sneaker        0.033\n",
      "Bag            0.756\n",
      "Ankle boot     0.000\n",
      "dtype: float32\n",
      "predicted class is : Bag\n",
      "\n",
      "T-shirt/top    0.000\n",
      "Trouser        0.000\n",
      "Pullover       0.032\n",
      "Dress          0.000\n",
      "Coat           0.947\n",
      "Sandal         0.000\n",
      "Shirt          0.021\n",
      "Sneaker        0.000\n",
      "Bag            0.000\n",
      "Ankle boot     0.000\n",
      "dtype: float32\n",
      "predicted class is : Coat\n",
      "\n"
     ]
    }
   ],
   "source": [
    "for img in samples:\n",
    "    resized_img=np.expand_dims(img, axis=0)\n",
    "    print(pd.Series(model.predict(resized_img).flatten(), index = classes).round(3))\n",
    "    print(f\"predicted class is : {classes[np.argmax(model.predict(resized_img))]}\\n\")\n",
    "    "
   ]
  },
  {
   "cell_type": "markdown",
   "metadata": {},
   "source": [
    "# real life photo"
   ]
  },
  {
   "cell_type": "code",
   "execution_count": 121,
   "metadata": {
    "ExecuteTime": {
     "end_time": "2022-09-27T22:40:27.811767Z",
     "start_time": "2022-09-27T22:40:27.689014Z"
    }
   },
   "outputs": [
    {
     "name": "stdout",
     "output_type": "stream",
     "text": [
      "(91, 150, 3)\n"
     ]
    },
    {
     "data": {
      "text/plain": [
       "<matplotlib.image.AxesImage at 0x1e31196a070>"
      ]
     },
     "execution_count": 121,
     "metadata": {},
     "output_type": "execute_result"
    },
    {
     "data": {
      "image/png": "[encoded data removed]",
      "text/plain": [
       "<Figure size 432x288 with 1 Axes>"
      ]
     },
     "metadata": {
      "needs_background": "light"
     },
     "output_type": "display_data"
    }
   ],
   "source": [
    "from tensorflow.keras.preprocessing import image\n",
    "imgGray = image.load_img(\"test5.jpg\",)# target_size=(28, 28))\n",
    "print (np.array(imgGray).shape)\n",
    "plt.imshow(imgGray)\n"
   ]
  },
  {
   "cell_type": "code",
   "execution_count": 122,
   "metadata": {
    "ExecuteTime": {
     "end_time": "2022-09-27T22:40:27.920707Z",
     "start_time": "2022-09-27T22:40:27.812677Z"
    }
   },
   "outputs": [
    {
     "data": {
      "text/plain": [
       "<matplotlib.image.AxesImage at 0x1e3117e33a0>"
      ]
     },
     "execution_count": 122,
     "metadata": {},
     "output_type": "execute_result"
    },
    {
     "data": {
      "image/png": "[encoded data removed]",
      "text/plain": [
       "<Figure size 432x288 with 1 Axes>"
      ]
     },
     "metadata": {
      "needs_background": "light"
     },
     "output_type": "display_data"
    }
   ],
   "source": [
    "import tensorflow as tf\n",
    "imgGray = tf.image.rgb_to_grayscale(imgGray)\n",
    "plt.imshow(imgGray)"
   ]
  },
  {
   "cell_type": "code",
   "execution_count": 123,
   "metadata": {
    "ExecuteTime": {
     "end_time": "2022-09-27T22:40:28.029234Z",
     "start_time": "2022-09-27T22:40:27.922226Z"
    }
   },
   "outputs": [
    {
     "data": {
      "image/png": "[encoded data removed]",
      "text/plain": [
       "<Figure size 432x288 with 1 Axes>"
      ]
     },
     "metadata": {
      "needs_background": "light"
     },
     "output_type": "display_data"
    }
   ],
   "source": [
    "# We add some pixels top of the image to make it square. in order to get a imagage like model trained on MNIST(If not needed can be skipped)\n",
    "bg_adding = (np.ones(((150-91),150))*255).reshape((150-91),150,1) # adding white background\n",
    "plt.imshow(np.concatenate ((bg_adding,imgGray), axis=0)) \n",
    "imgGray =  np.concatenate ((bg_adding,imgGray), axis=0) # concatenating the background and the image\n"
   ]
  },
  {
   "cell_type": "code",
   "execution_count": 124,
   "metadata": {
    "ExecuteTime": {
     "end_time": "2022-09-27T22:40:28.124960Z",
     "start_time": "2022-09-27T22:40:28.030230Z"
    }
   },
   "outputs": [
    {
     "data": {
      "image/png": "[encoded data removed]",
      "text/plain": [
       "<Figure size 432x288 with 1 Axes>"
      ]
     },
     "metadata": {
      "needs_background": "light"
     },
     "output_type": "display_data"
    }
   ],
   "source": [
    "size = (28, 28)\n",
    "plt.imshow(tf.image.resize(imgGray, size))\n",
    "imgGray = tf.image.resize(imgGray, size) # resizing the image to 28x28 pixels"
   ]
  },
  {
   "cell_type": "code",
   "execution_count": 125,
   "metadata": {
    "ExecuteTime": {
     "end_time": "2022-09-27T22:40:28.140671Z",
     "start_time": "2022-09-27T22:40:28.125959Z"
    }
   },
   "outputs": [
    {
     "data": {
      "text/plain": [
       "TensorShape([28, 28, 1])"
      ]
     },
     "execution_count": 125,
     "metadata": {},
     "output_type": "execute_result"
    }
   ],
   "source": [
    "imgGray.shape"
   ]
  },
  {
   "cell_type": "code",
   "execution_count": 126,
   "metadata": {
    "ExecuteTime": {
     "end_time": "2022-09-27T22:40:28.156354Z",
     "start_time": "2022-09-27T22:40:28.142179Z"
    }
   },
   "outputs": [
    {
     "data": {
      "text/plain": [
       "(28, 28, 1)"
      ]
     },
     "execution_count": 126,
     "metadata": {},
     "output_type": "execute_result"
    }
   ],
   "source": [
    "imgGray = np.array(imgGray)\n",
    "imgGray.shape"
   ]
  },
  {
   "cell_type": "code",
   "execution_count": 127,
   "metadata": {
    "ExecuteTime": {
     "end_time": "2022-09-27T22:40:28.171979Z",
     "start_time": "2022-09-27T22:40:28.158348Z"
    }
   },
   "outputs": [
    {
     "data": {
      "text/plain": [
       "array([[255.      , 255.      , 255.      , 255.      , 255.      ,\n",
       "        255.      , 255.      , 255.      , 255.      , 255.      ,\n",
       "        255.      , 255.      , 255.      , 255.      , 255.      ,\n",
       "        255.      , 255.      , 255.      , 255.      , 255.      ,\n",
       "        255.      , 255.      , 255.      , 255.      , 255.      ,\n",
       "        255.      , 255.      , 255.      ],\n",
       "       [255.      , 255.      , 255.      , 255.      , 255.      ,\n",
       "        255.      , 255.      , 255.      , 255.      , 255.      ,\n",
       "        255.      , 255.      , 255.      , 255.      , 255.      ,\n",
       "        255.      , 255.      , 255.      , 255.      , 255.      ,\n",
       "        255.      , 255.      , 255.      , 255.      , 255.      ,\n",
       "        255.      , 255.      , 255.      ],\n",
       "       [255.      , 255.      , 255.      , 255.      , 255.      ,\n",
       "        255.      , 255.      , 255.      , 255.      , 255.      ,\n",
       "        255.      , 255.      , 255.      , 255.      , 255.      ,\n",
       "        255.      , 255.      , 255.      , 255.      , 255.      ,\n",
       "        255.      , 255.      , 255.      , 255.      , 255.      ,\n",
       "        255.      , 255.      , 255.      ],\n",
       "       [255.      , 255.      , 255.      , 255.      , 255.      ,\n",
       "        255.      , 255.      , 255.      , 255.      , 255.      ,\n",
       "        255.      , 255.      , 255.      , 255.      , 255.      ,\n",
       "        255.      , 255.      , 255.      , 255.      , 255.      ,\n",
       "        255.      , 255.      , 255.      , 255.      , 255.      ,\n",
       "        255.      , 255.      , 255.      ],\n",
       "       [255.      , 255.      , 255.      , 255.      , 255.      ,\n",
       "        255.      , 255.      , 255.      , 255.      , 255.      ,\n",
       "        255.      , 255.      , 255.      , 255.      , 255.      ,\n",
       "        255.      , 255.      , 255.      , 255.      , 255.      ,\n",
       "        255.      , 255.      , 255.      , 255.      , 255.      ,\n",
       "        255.      , 255.      , 255.      ],\n",
       "       [255.      , 255.      , 255.      , 255.      , 255.      ,\n",
       "        255.      , 255.      , 255.      , 255.      , 255.      ,\n",
       "        255.      , 255.      , 255.      , 255.      , 255.      ,\n",
       "        255.      , 255.      , 255.      , 255.      , 255.      ,\n",
       "        255.      , 255.      , 255.      , 255.      , 255.      ,\n",
       "        255.      , 255.      , 255.      ],\n",
       "       [255.      , 255.      , 255.      , 255.      , 255.      ,\n",
       "        255.      , 255.      , 255.      , 255.      , 255.      ,\n",
       "        255.      , 255.      , 255.      , 255.      , 255.      ,\n",
       "        255.      , 255.      , 255.      , 255.      , 255.      ,\n",
       "        255.      , 255.      , 255.      , 255.      , 255.      ,\n",
       "        255.      , 255.      , 255.      ],\n",
       "       [255.      , 255.      , 255.      , 255.      , 255.      ,\n",
       "        255.      , 255.      , 255.      , 255.      , 255.      ,\n",
       "        255.      , 255.      , 255.      , 255.      , 255.      ,\n",
       "        255.      , 255.      , 255.      , 255.      , 255.      ,\n",
       "        255.      , 255.      , 255.      , 255.      , 255.      ,\n",
       "        255.      , 255.      , 255.      ],\n",
       "       [255.      , 255.      , 255.      , 255.      , 255.      ,\n",
       "        255.      , 255.      , 255.      , 255.      , 255.      ,\n",
       "        255.      , 255.      , 255.      , 255.      , 255.      ,\n",
       "        255.      , 255.      , 255.      , 255.      , 255.      ,\n",
       "        255.      , 255.      , 255.      , 255.      , 255.      ,\n",
       "        255.      , 255.      , 255.      ],\n",
       "       [255.      , 255.      , 255.      , 255.      , 255.      ,\n",
       "        255.      , 255.      , 255.      , 255.      , 255.      ,\n",
       "        255.      , 255.      , 255.      , 255.      , 255.      ,\n",
       "        255.      , 255.      , 255.      , 255.      , 255.      ,\n",
       "        255.      , 255.      , 255.      , 255.      , 255.      ,\n",
       "        255.      , 255.      , 255.      ],\n",
       "       [255.      , 255.      , 255.      , 255.      , 255.      ,\n",
       "        255.      , 255.      , 255.      , 255.      , 255.      ,\n",
       "        255.      , 255.      , 255.      , 255.      , 255.      ,\n",
       "        255.      , 255.      , 255.      , 255.      , 255.      ,\n",
       "        255.      , 255.      , 255.      , 255.      , 255.      ,\n",
       "        255.      , 255.      , 255.      ],\n",
       "       [255.      , 255.      , 255.      , 255.      , 255.      ,\n",
       "        255.      , 255.      , 254.39413 , 254.78954 , 254.65561 ,\n",
       "        253.66072 , 255.      , 255.      , 255.      , 255.      ,\n",
       "        254.58545 , 255.      , 254.75    , 254.      , 254.      ,\n",
       "        254.      , 254.      , 254.      , 254.10715 , 255.      ,\n",
       "        255.      , 255.      , 255.      ],\n",
       "       [254.61862 , 254.75127 , 255.      , 254.      , 254.28189 ,\n",
       "        253.01657 , 253.63011 , 252.38647 , 230.5816  , 157.80608 ,\n",
       "        251.10715 , 251.62119 , 253.78444 , 254.4643  , 255.      ,\n",
       "        255.      , 254.9426  , 254.86607 , 255.      , 255.      ,\n",
       "        255.      , 255.      , 254.4643  , 255.      , 255.      ,\n",
       "        255.      , 255.      , 255.      ],\n",
       "       [255.      , 254.17857 , 255.      , 253.86607 , 253.39542 ,\n",
       "        254.0357  , 248.54465 , 211.32265 , 232.32135 , 186.70279 ,\n",
       "        141.02678 , 247.98982 , 254.17857 , 254.82143 , 255.      ,\n",
       "        255.      , 255.      , 255.      , 255.      , 255.      ,\n",
       "        255.      , 255.      , 255.      , 255.      , 255.      ,\n",
       "        255.      , 255.      , 255.      ],\n",
       "       [255.      , 252.31123 , 253.90434 , 251.98215 , 246.76013 ,\n",
       "        185.34454 , 243.75124 , 240.90688 , 239.19008 , 178.34439 ,\n",
       "        176.11607 , 163.80995 , 250.59439 , 254.80867 , 254.17857 ,\n",
       "        255.      , 255.      , 255.      , 255.      , 255.      ,\n",
       "        255.      , 255.      , 255.      , 255.      , 255.      ,\n",
       "        255.      , 255.      , 255.      ],\n",
       "       [253.52296 , 251.40178 , 243.42088 , 244.17856 , 245.01022 ,\n",
       "        239.01402 , 240.75893 , 228.2666  , 158.6097  , 170.43623 ,\n",
       "        172.125   ,  29.918413, 185.33823 , 252.73853 , 252.5357  ,\n",
       "        255.      , 255.      , 255.      , 255.      , 255.      ,\n",
       "        255.      , 255.      , 255.      , 255.      , 255.      ,\n",
       "        255.      , 255.      , 255.      ],\n",
       "       [253.76915 , 164.8751  , 239.63391 , 238.05357 , 235.6097  ,\n",
       "        237.20662 , 191.72176 , 156.81505 , 162.1773  , 165.46173 ,\n",
       "        170.12502 , 184.23984 ,  65.980736, 254.00255 , 253.62885 ,\n",
       "        254.95026 , 255.      , 255.      , 255.      , 255.      ,\n",
       "        255.      , 255.      , 255.      , 255.      , 255.      ,\n",
       "        255.      , 255.      , 255.      ],\n",
       "       [254.38393 , 181.5268  , 233.23213 , 241.5625  , 235.04463 ,\n",
       "        151.34818 , 156.1518  , 162.63394 , 165.20537 , 169.79465 ,\n",
       "        161.1875  , 176.06252 ,  32.9464  , 177.98215 , 146.9642  ,\n",
       "        244.27676 , 254.5893  , 254.1875  , 253.38391 , 254.9107  ,\n",
       "        255.      , 255.      , 255.      , 255.      , 255.      ,\n",
       "        255.      , 255.      , 255.      ],\n",
       "       [253.63904 , 249.4184  , 174.66325 , 181.24088 , 152.30347 ,\n",
       "        164.41708 , 161.72832 , 165.32909 , 161.73723 , 172.50258 ,\n",
       "        186.5358  , 170.29718 , 171.01144 , 185.62375 , 189.17854 ,\n",
       "        180.99994 , 196.49225 , 231.90164 , 248.55997 , 254.0357  ,\n",
       "        254.28572 , 253.78316 , 255.      , 255.      , 255.      ,\n",
       "        255.      , 255.      , 255.      ],\n",
       "       [252.85715 , 242.6046  , 245.16965 , 139.86603 , 173.43115 ,\n",
       "        171.86737 , 152.74106 , 169.8342  , 153.04333 , 231.89925 ,\n",
       "        232.59822 , 244.67477 , 221.1416  , 245.17473 , 245.17854 ,\n",
       "        190.19391 , 196.16986 ,  78.01776 , 100.10256 , 254.8546  ,\n",
       "        250.42984 , 254.38011 , 255.      , 255.      , 255.      ,\n",
       "        255.      , 255.      , 255.      ],\n",
       "       [253.12117 , 180.94266 , 171.03189 , 167.20535 , 168.72069 ,\n",
       "        159.73206 , 158.4733  , 157.87366 , 163.32144 , 236.06761 ,\n",
       "        214.38394 , 242.99364 , 207.75883 , 219.47327 , 167.71814 ,\n",
       "        240.27556 , 219.9056  , 179.375   , 198.29712 ,  35.940002,\n",
       "         62.4133  , 247.57526 , 255.      , 254.39285 , 255.      ,\n",
       "        254.32143 , 254.32143 , 255.      ],\n",
       "       [252.37883 , 175.28572 , 168.89285 , 166.42857 , 167.74745 ,\n",
       "        167.03572 , 166.7092  , 161.50894 , 167.9834  , 172.57906 ,\n",
       "        165.43753 , 177.97696 , 229.91959 , 183.1645  , 181.85077 ,\n",
       "        225.48976 , 229.78317 , 242.74109 , 167.64673 , 197.92094 ,\n",
       "        209.02553 , 248.56505 , 253.64285 , 254.21684 , 254.      ,\n",
       "        254.07271 , 253.68494 , 253.67857 ],\n",
       "       [253.6301  , 177.98087 , 171.21811 , 168.73215 , 170.      ,\n",
       "        170.      , 170.58418 , 164.92728 , 242.9643  , 240.55484 ,\n",
       "        172.62498 , 168.35333 , 176.22324 , 177.0268  , 182.89285 ,\n",
       "        193.29459 , 246.73343 , 244.64285 , 204.10718 , 204.68114 ,\n",
       "        191.9758  , 241.25378 , 246.28444 , 249.26276 , 248.17856 ,\n",
       "        252.00128 , 217.93755 , 252.20792 ],\n",
       "       [252.14285 , 179.11224 , 172.28574 , 170.15178 , 169.84566 ,\n",
       "        169.39285 , 170.71173 , 177.34442 , 198.08162 , 232.5409  ,\n",
       "        218.14275 , 240.26402 , 240.81505 , 203.63918 , 184.5792  ,\n",
       "        246.82526 , 228.27423 , 204.45529 , 198.60593 , 201.32144 ,\n",
       "        212.83025 , 244.50261 , 186.75119 , 206.07272 , 212.66962 ,\n",
       "        206.889   , 196.57268 , 227.50374 ],\n",
       "       [251.7857  , 217.5     , 185.57143 , 165.5     , 163.03572 ,\n",
       "        164.70537 , 167.67857 , 171.15181 , 244.5     , 224.11609 ,\n",
       "        229.3125  , 234.07143 , 228.49107 , 222.59825 , 234.47325 ,\n",
       "        237.58035 , 212.50882 , 195.3125  , 192.0268  , 196.19643 ,\n",
       "        199.25    , 200.84822 , 205.4375  , 195.39285 , 187.9375  ,\n",
       "        176.95538 , 231.31258 , 231.28574 ],\n",
       "       [248.57399 , 241.1722  , 242.30995 , 248.10712 , 239.11357 ,\n",
       "        231.26154 , 220.92992 , 227.31758 , 235.37369 , 235.22318 ,\n",
       "        239.9285  , 239.97443 , 250.86981 , 247.12245 , 250.52164 ,\n",
       "        250.73337 , 247.55994 , 245.14288 , 250.70152 , 252.76274 ,\n",
       "        251.00247 , 251.21292 , 242.38518 , 230.34694 , 230.68753 ,\n",
       "        236.97333 , 216.13225 , 161.25513 ],\n",
       "       [235.61195 , 246.06635 , 236.47195 , 240.44638 , 241.83421 ,\n",
       "        238.8049  , 244.39922 , 242.36356 , 243.0663  , 239.64673 ,\n",
       "        239.58037 , 241.95026 , 241.      , 238.76535 , 235.88258 ,\n",
       "        237.78952 , 236.63011 , 240.40178 , 242.22833 , 245.36876 ,\n",
       "        241.96803 , 247.6237  , 240.6251  , 164.99077 , 166.08939 ,\n",
       "        160.36339 , 208.72652 , 249.4758  ],\n",
       "       [244.89407 , 138.07654 , 170.01654 , 165.66963 , 168.42856 ,\n",
       "        141.2271  , 160.60078 , 164.91325 , 160.43877 , 177.73613 ,\n",
       "        166.51804 , 154.97212 , 151.0321  , 146.68774 , 172.56897 ,\n",
       "        161.14537 , 164.4107  , 169.49997 , 139.0245  , 165.42487 ,\n",
       "        132.21315 ,  77.4951  ,  55.69912 ,  60.859768,  89.276794,\n",
       "        133.91586 , 213.36607 , 254.80867 ]], dtype=float32)"
      ]
     },
     "execution_count": 127,
     "metadata": {},
     "output_type": "execute_result"
    }
   ],
   "source": [
    "imgGray[:,:,0]"
   ]
  },
  {
   "cell_type": "code",
   "execution_count": 128,
   "metadata": {
    "ExecuteTime": {
     "end_time": "2022-09-27T22:40:28.187036Z",
     "start_time": "2022-09-27T22:40:28.173074Z"
    }
   },
   "outputs": [],
   "source": [
    "# to convert background into black\n",
    "height, width,_ = imgGray.shape\n",
    "\n",
    "for i in range(height):\n",
    "    for j in range(width):\n",
    "        # img[i,j] is the grayscale pixel at position (i, j)\n",
    "        # check if it's [255] and replace with [0] if so\n",
    "        if imgGray[i,j] > 250:\n",
    "            imgGray[i, j] = 0 "
   ]
  },
  {
   "cell_type": "code",
   "execution_count": 129,
   "metadata": {
    "ExecuteTime": {
     "end_time": "2022-09-27T22:40:28.297408Z",
     "start_time": "2022-09-27T22:40:28.190027Z"
    },
    "scrolled": true
   },
   "outputs": [
    {
     "data": {
      "text/plain": [
       "<matplotlib.image.AxesImage at 0x1e3115b94c0>"
      ]
     },
     "execution_count": 129,
     "metadata": {},
     "output_type": "execute_result"
    },
    {
     "data": {
      "image/png": "[encoded data removed]",
      "text/plain": [
       "<Figure size 432x288 with 1 Axes>"
      ]
     },
     "metadata": {
      "needs_background": "light"
     },
     "output_type": "display_data"
    }
   ],
   "source": [
    "plt.imshow(imgGray)\n",
    "    "
   ]
  },
  {
   "cell_type": "code",
   "execution_count": 130,
   "metadata": {
    "ExecuteTime": {
     "end_time": "2022-09-27T22:40:28.313118Z",
     "start_time": "2022-09-27T22:40:28.298407Z"
    }
   },
   "outputs": [
    {
     "data": {
      "text/plain": [
       "(0.0, 249.4758)"
      ]
     },
     "execution_count": 130,
     "metadata": {},
     "output_type": "execute_result"
    }
   ],
   "source": [
    "np.array(imgGray).min(), np.array(imgGray).max() # to check the min and max values of the image"
   ]
  },
  {
   "cell_type": "code",
   "execution_count": 131,
   "metadata": {
    "ExecuteTime": {
     "end_time": "2022-09-27T22:40:28.329116Z",
     "start_time": "2022-09-27T22:40:28.314092Z"
    }
   },
   "outputs": [
    {
     "data": {
      "text/plain": [
       "(28, 28, 1)"
      ]
     },
     "execution_count": 131,
     "metadata": {},
     "output_type": "execute_result"
    }
   ],
   "source": [
    "imgGray = imgGray/255 # normalizing the image\n",
    "imgGray.shape"
   ]
  },
  {
   "cell_type": "code",
   "execution_count": 132,
   "metadata": {
    "ExecuteTime": {
     "end_time": "2022-09-27T22:40:28.408246Z",
     "start_time": "2022-09-27T22:40:28.329807Z"
    }
   },
   "outputs": [
    {
     "data": {
      "text/plain": [
       "<matplotlib.image.AxesImage at 0x1e310f480d0>"
      ]
     },
     "execution_count": 132,
     "metadata": {},
     "output_type": "execute_result"
    },
    {
     "data": {
      "image/png": "[encoded data removed]",
      "text/plain": [
       "<Figure size 432x288 with 1 Axes>"
      ]
     },
     "metadata": {
      "needs_background": "light"
     },
     "output_type": "display_data"
    }
   ],
   "source": [
    "plt.imshow(imgGray)"
   ]
  },
  {
   "cell_type": "code",
   "execution_count": 133,
   "metadata": {
    "ExecuteTime": {
     "end_time": "2022-09-27T22:40:28.423225Z",
     "start_time": "2022-09-27T22:40:28.409217Z"
    }
   },
   "outputs": [
    {
     "data": {
      "text/plain": [
       "(1, 28, 28, 1)"
      ]
     },
     "execution_count": 133,
     "metadata": {},
     "output_type": "execute_result"
    }
   ],
   "source": [
    "imgGray= np.expand_dims(imgGray, axis=0)\n",
    "imgGray.shape"
   ]
  },
  {
   "cell_type": "code",
   "execution_count": 134,
   "metadata": {
    "ExecuteTime": {
     "end_time": "2022-09-27T22:40:28.438401Z",
     "start_time": "2022-09-27T22:40:28.424211Z"
    }
   },
   "outputs": [],
   "source": [
    "# imgGray = imgGray[None,:,:,:] # same process to add dimension without a function\n",
    "# imgGray.shape"
   ]
  },
  {
   "cell_type": "code",
   "execution_count": 135,
   "metadata": {
    "ExecuteTime": {
     "end_time": "2022-09-27T22:40:28.578014Z",
     "start_time": "2022-09-27T22:40:28.439176Z"
    }
   },
   "outputs": [
    {
     "data": {
      "text/plain": [
       "array([0.   , 0.   , 0.   , 0.   , 0.   , 0.985, 0.   , 0.   , 0.015,\n",
       "       0.   ], dtype=float32)"
      ]
     },
     "execution_count": 135,
     "metadata": {},
     "output_type": "execute_result"
    }
   ],
   "source": [
    "model.predict(imgGray).round(3).flatten() # to predict the class of the image"
   ]
  },
  {
   "cell_type": "code",
   "execution_count": 136,
   "metadata": {
    "ExecuteTime": {
     "end_time": "2022-09-27T22:40:28.717011Z",
     "start_time": "2022-09-27T22:40:28.578990Z"
    }
   },
   "outputs": [
    {
     "data": {
      "text/plain": [
       "0    0.000\n",
       "1    0.000\n",
       "2    0.000\n",
       "3    0.000\n",
       "4    0.000\n",
       "5    0.985\n",
       "6    0.000\n",
       "7    0.000\n",
       "8    0.015\n",
       "9    0.000\n",
       "dtype: float32"
      ]
     },
     "execution_count": 136,
     "metadata": {},
     "output_type": "execute_result"
    }
   ],
   "source": [
    "pd.Series(model.predict(imgGray).round(3).flatten())#.argmax()"
   ]
  },
  {
   "cell_type": "code",
   "execution_count": 137,
   "metadata": {
    "ExecuteTime": {
     "end_time": "2022-09-27T22:40:28.733146Z",
     "start_time": "2022-09-27T22:40:28.717901Z"
    }
   },
   "outputs": [
    {
     "data": {
      "text/plain": [
       "0    T-shirt/top\n",
       "1        Trouser\n",
       "2       Pullover\n",
       "3          Dress\n",
       "4           Coat\n",
       "5         Sandal\n",
       "6          Shirt\n",
       "7        Sneaker\n",
       "8            Bag\n",
       "9     Ankle boot\n",
       "dtype: object"
      ]
     },
     "execution_count": 137,
     "metadata": {},
     "output_type": "execute_result"
    }
   ],
   "source": [
    "pd.Series(classes)"
   ]
  },
  {
   "cell_type": "code",
   "execution_count": null,
   "metadata": {},
   "outputs": [],
   "source": []
  },
  {
   "cell_type": "code",
   "execution_count": null,
   "metadata": {},
   "outputs": [],
   "source": []
  }
 ],
 "metadata": {
  "hide_input": false,
  "kernelspec": {
   "display_name": "Python 3.9 (tensorflow)",
   "language": "python",
   "name": "tensorflow"
  },
  "language_info": {
   "codemirror_mode": {
    "name": "ipython",
    "version": 3
   },
   "file_extension": ".py",
   "mimetype": "text/x-python",
   "name": "python",
   "nbconvert_exporter": "python",
   "pygments_lexer": "ipython3",
   "version": "3.9.7"
  },
  "toc": {
   "base_numbering": 1,
   "nav_menu": {},
   "number_sections": true,
   "sideBar": true,
   "skip_h1_title": false,
   "title_cell": "Table of Contents",
   "title_sidebar": "Contents",
   "toc_cell": false,
   "toc_position": {},
   "toc_section_display": true,
   "toc_window_display": false
  },
  "varInspector": {
   "cols": {
    "lenName": 16,
    "lenType": 16,
    "lenVar": 40
   },
   "kernels_config": {
    "python": {
     "delete_cmd_postfix": "",
     "delete_cmd_prefix": "del ",
     "library": "var_list.py",
     "varRefreshCmd": "print(var_dic_list())"
    },
    "r": {
     "delete_cmd_postfix": ") ",
     "delete_cmd_prefix": "rm(",
     "library": "var_list.r",
     "varRefreshCmd": "cat(var_dic_list()) "
    }
   },
   "types_to_exclude": [
    "module",
    "function",
    "builtin_function_or_method",
    "instance",
    "_Feature"
   ],
   "window_display": false
  }
 },
 "nbformat": 4,
 "nbformat_minor": 4
}
